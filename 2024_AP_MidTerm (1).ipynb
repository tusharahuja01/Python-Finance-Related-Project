{
 "cells": [
  {
   "cell_type": "markdown",
   "id": "565636f3-15d3-4c02-933f-99c785f7d81f",
   "metadata": {},
   "source": [
    "# Analytics Programming Mid-Term Exam\n"
   ]
  },
  {
   "cell_type": "markdown",
   "id": "d707a2d6-b184-4090-9e35-1ce3d1ebadd9",
   "metadata": {},
   "source": [
    "**Instructor:** Kun Bao  \n",
    "**Date:** 2024-10-15  \n",
    "**Duration:** 60 minutes   \n",
    "**Instructions:** Answer all questions in notebook. Ensure clarity and correctness in your code.  \n",
    "\n",
    "- Please work on a single jupyter notebook and submit your ipynb fle at the end.\n",
    "- Please set alarm at 8:50PM to stop coding and use the rest of 5 mins to submit your jupyter fle."
   ]
  },
  {
   "cell_type": "markdown",
   "id": "2ef1d261-e3f2-4b06-ad53-e68649151133",
   "metadata": {},
   "source": [
    "## Student \n",
    "Name: Tushar Ahuja\n",
    "\n",
    "SIS ID: 800765709"
   ]
  },
  {
   "cell_type": "markdown",
   "id": "10b130cd-cc1e-4ccd-80f0-b4b8b2f4bce3",
   "metadata": {},
   "source": [
    "## Part 1: Multiple Choice Questions (20 points)"
   ]
  },
  {
   "cell_type": "markdown",
   "id": "d59e1dc6-7c4c-484c-bfb9-3df32f1be55d",
   "metadata": {},
   "source": [
    "#### Q1: Which of the following is used to create a list in Python?\n",
    "\n",
    "- A. []\n",
    "- B. {}\n",
    "- C. ()\n",
    "- D. <>"
   ]
  },
  {
   "cell_type": "markdown",
   "id": "3660226f-215f-4cd5-b049-39efd688ed91",
   "metadata": {},
   "source": [
    "Answer:  **A. []**"
   ]
  },
  {
   "cell_type": "markdown",
   "id": "49292dba-2eda-4d24-a9bd-2232a4fdfb07",
   "metadata": {},
   "source": [
    "#### Q2: Which of the following is used to install external packages in Python?\n",
    "\n",
    "- A. import  \n",
    "- B. pip  \n",
    "- C. module  \n",
    "- D. library"
   ]
  },
  {
   "cell_type": "markdown",
   "id": "fae75781-00d8-4886-be62-7c6aa938f0c6",
   "metadata": {},
   "source": [
    "Answer:  **B. pip**"
   ]
  },
  {
   "cell_type": "markdown",
   "id": "7c1810e5-0adf-4424-a411-c1c0fdd6d7b9",
   "metadata": {},
   "source": [
    "#### Q3: What does df.head() do in a Pandas DataFrame?\n",
    "\n",
    "- A. Returns the first 5 rows by default\n",
    "- B. Returns the column names\n",
    "- C. Returns the last 5 rows\n",
    "- D. Deletes the first 5 rows"
   ]
  },
  {
   "cell_type": "markdown",
   "id": "78153974-0bfc-47f6-866f-e68bece52259",
   "metadata": {},
   "source": [
    "Answer:  **A. Returns the first 5 rows by default**"
   ]
  },
  {
   "cell_type": "markdown",
   "id": "ac1c60ec-5ec9-4cbd-a04f-d9bc53007add",
   "metadata": {},
   "source": [
    "#### Q4: Which of the following is not a data type in Python?\n",
    "\n",
    "- A. list\n",
    "- B. float\n",
    "- C. set\n",
    "- D. array"
   ]
  },
  {
   "cell_type": "markdown",
   "id": "08b78498-5efb-404f-a93a-ba96b1d06795",
   "metadata": {},
   "source": [
    "Answer:  **D. array**"
   ]
  },
  {
   "cell_type": "markdown",
   "id": "40065bf2-2075-43c2-a469-8848df0e8381",
   "metadata": {},
   "source": [
    "#### Q5: Which method is used to add an item to the end of a list in Python?\n",
    "\n",
    "- A. insert()\n",
    "- B. append()\n",
    "- C. add()\n",
    "- D. extend()"
   ]
  },
  {
   "cell_type": "markdown",
   "id": "18f92a31-e544-4494-a560-415f4dfd481a",
   "metadata": {},
   "source": [
    "Answer:  **B. append()**"
   ]
  },
  {
   "cell_type": "markdown",
   "id": "618e3516-9b4b-4cef-9841-f24015680d66",
   "metadata": {},
   "source": [
    "#### Q6: Which of the following statements is *true* about Python dictionaries?\n",
    "\n",
    "- A. List can be used as Dictionaries key \n",
    "- B. Tuple can be used as Dictionaries key \n",
    "- C. Dictionary values must be unique\n",
    "- D. You can access a value using an index"
   ]
  },
  {
   "cell_type": "markdown",
   "id": "bc149ef5-ad07-46b9-9477-3347eecf51a6",
   "metadata": {},
   "source": [
    "Answer:  **B. Tuple can be used as Dictionaries key**"
   ]
  },
  {
   "cell_type": "markdown",
   "id": "7ad7efdc-2c81-4a54-9be3-684cc799d88c",
   "metadata": {},
   "source": [
    "#### Q7: Which of the following functions is used to remove missing values in a DataFrame?\n",
    "\n",
    "- A. dropna()\n",
    "- B. fillna()\n",
    "- C. replace()\n",
    "- D. isna()"
   ]
  },
  {
   "cell_type": "markdown",
   "id": "3969c8c8-3938-4b59-99cc-4327e6e660d9",
   "metadata": {},
   "source": [
    "Answer:  **A. dropna()**"
   ]
  },
  {
   "cell_type": "markdown",
   "id": "9708b867-4b86-41e5-b9d5-f06860015623",
   "metadata": {},
   "source": [
    "#### Q8: How do you select rows where a column value is greater than 10 in a Pandas DataFrame df?\n",
    "\n",
    "- A. df['column'] > 10\n",
    "- B. df.loc[df['column'] > 10]\n",
    "- C. df['column'] >= 10\n",
    "- D. df.query(\"column > 10\")\n"
   ]
  },
  {
   "cell_type": "markdown",
   "id": "275cce2d-d9d3-46f0-9ac7-26fc50b24e0a",
   "metadata": {},
   "source": [
    "Answer:  **B. df.loc[df['column'] > 10]**"
   ]
  },
  {
   "cell_type": "markdown",
   "id": "fcbcb473-0c37-440e-ac47-dcca6bebf0ee",
   "metadata": {},
   "source": [
    "#### Q9: What does the pivot_table() function do in Pandas?\n",
    "\n",
    "- A. Transforms a DataFrame into a more readable format\n",
    "- B. Aggregates data and creates a new DataFrame\n",
    "- C. Reshapes data without aggregation\n",
    "- D. Merges two DataFrames based on a common key"
   ]
  },
  {
   "cell_type": "markdown",
   "id": "73da5870-8f29-4c4a-8a06-406e0d406590",
   "metadata": {},
   "source": [
    "Answer:   **B. Aggregates data and creates a new DataFrame**"
   ]
  },
  {
   "cell_type": "markdown",
   "id": "e7598ef1-6c6d-4725-aaf6-aa39b5ae9214",
   "metadata": {},
   "source": [
    "#### Q10: What is the purpose of the pd.concat() function in Pandas?\n",
    "\n",
    "- A. Merges DataFrames based on a key\n",
    "- B. Joins two DataFrames vertically or horizontally\n",
    "- C. Combines DataFrames while aggregating data\n",
    "- D. Splits a DataFrame into multiple DataFrames"
   ]
  },
  {
   "cell_type": "markdown",
   "id": "cf449674-406e-410f-a8e7-5db8bebf25e1",
   "metadata": {},
   "source": [
    "Answer:  **B. Joins two DataFrames vertically or horizontally**"
   ]
  },
  {
   "cell_type": "markdown",
   "id": "6bb114c1-0bf3-4fd2-8d99-078e02cdcd03",
   "metadata": {},
   "source": [
    "## Part 2: Short Coding Problems (30 points)"
   ]
  },
  {
   "attachments": {
    "18a23f88-7563-429c-9370-0ea50e7b5239.png": {
     "image/png": "[encoded data removed]"
    }
   },
   "cell_type": "markdown",
   "id": "013fda80-5009-4a00-b8d7-0d4c18403be9",
   "metadata": {},
   "source": [
    "#### Q11: Create a Pandas DataFrame with the following values:\n",
    "\n",
    "![image.png](attachment:18a23f88-7563-429c-9370-0ea50e7b5239.png)"
   ]
  },
  {
   "cell_type": "code",
   "execution_count": 44,
   "id": "ca56bca6-2fc6-4036-a71c-cd7533f9f9e8",
   "metadata": {},
   "outputs": [
    {
     "name": "stdout",
     "output_type": "stream",
     "text": [
      "    A  B\n",
      "r1  1  3\n",
      "r2  2  2\n",
      "r3  3  6\n"
     ]
    }
   ],
   "source": [
    "# Answer\n",
    "\n",
    "import pandas as pd\n",
    "\n",
    "dataframe = {'A': [1, 2, 3],'B': [3, 2, 6]}\n",
    "\n",
    "A = pd.DataFrame(dataframe, index=['r1', 'r2', 'r3'])\n",
    "\n",
    "print(A)\n"
   ]
  },
  {
   "cell_type": "markdown",
   "id": "d6f2cde4-996d-4044-90cb-bbad16451966",
   "metadata": {},
   "source": [
    "#### Q12: Write a function that takes a Pandas DataFrame and returns the number of missing values in each column.\n"
   ]
  },
  {
   "cell_type": "code",
   "execution_count": 46,
   "id": "afcfb3d0-6d5c-4522-9255-cf9720b0ea2c",
   "metadata": {},
   "outputs": [
    {
     "name": "stdout",
     "output_type": "stream",
     "text": [
      "A    1\n",
      "B    2\n",
      "C    0\n",
      "dtype: int64\n"
     ]
    }
   ],
   "source": [
    "import pandas as pd\n",
    "\n",
    "def count_missing_values(df):\n",
    "    # Your code here\n",
    "    return df.isna().sum()\n",
    "    pass\n",
    "\n",
    "# Example DataFrame\n",
    "data = {'A': [1, 2, None], 'B': [4, None, None], 'C': [7, 8, 9]}\n",
    "df = pd.DataFrame(data)\n",
    "print(count_missing_values(df))\n"
   ]
  },
  {
   "cell_type": "markdown",
   "id": "6f7d34c1-2c76-40da-b935-b20a9a6b3d76",
   "metadata": {},
   "source": [
    "#### Q13: Given the following DataFrame, write a Python function that returns a new DataFrame containing only the rows where the values in column `'A'` are greater than 2."
   ]
  },
  {
   "cell_type": "code",
   "execution_count": 50,
   "id": "0bcded8f-d93a-49b2-976b-6ad80c3402b1",
   "metadata": {},
   "outputs": [
    {
     "name": "stdout",
     "output_type": "stream",
     "text": [
      "   A  B\n",
      "2  3  7\n",
      "3  4  8\n"
     ]
    }
   ],
   "source": [
    "data = {'A': [1, 2, 3, 4], 'B': [5, 6, 7, 8]}\n",
    "df = pd.DataFrame(data)\n",
    "\n",
    "def filter_dataframe(df):\n",
    "    # Your code here\n",
    "    return df[df['A'] > 2]\n",
    "    pass\n",
    "\n",
    "print(filter_dataframe(df))\n",
    "# Your function should return a DataFrame with the following rows:\n",
    "#    A  B\n",
    "# 2  3  7\n",
    "# 3  4  8\n"
   ]
  },
  {
   "cell_type": "markdown",
   "id": "fcc58eb0-bec4-4e7c-ada3-9dbda610b77f",
   "metadata": {},
   "source": [
    "#### Q14: Given two arrays, write a Python function that returns the intersection of the two arrays, i.e., the elements that are common to both arrays."
   ]
  },
  {
   "cell_type": "code",
   "execution_count": 62,
   "id": "01c52223-a3b5-48ed-93b5-3fabc70007da",
   "metadata": {},
   "outputs": [
    {
     "name": "stdout",
     "output_type": "stream",
     "text": [
      "[0, 9]\n"
     ]
    }
   ],
   "source": [
    "X = [1,6,9,0] \n",
    "Y = [3,0,2,9] \n",
    "\n",
    "def get_intersection(x, y):\n",
    "    # Your code here\n",
    "    return list(set(x) & set(y))\n",
    "    pass\n",
    "\n",
    "print(get_intersection(Y, X))\n",
    "# Your function should return\n",
    "# [9,0]\n",
    "\n"
   ]
  },
  {
   "cell_type": "markdown",
   "id": "ede478cb-4446-474c-94a1-6310e692156f",
   "metadata": {},
   "source": [
    "#### Q15: Given an array, write a Python function to find and return all the duplicate elements in the array."
   ]
  },
  {
   "cell_type": "code",
   "execution_count": 87,
   "id": "77afaf78-6719-401d-8bd7-7b625ccbc6e2",
   "metadata": {},
   "outputs": [
    {
     "name": "stdout",
     "output_type": "stream",
     "text": [
      "[1, 3]\n"
     ]
    }
   ],
   "source": [
    "X = [1,2,3,1,3,6,5] \n",
    "def get_duplicates(input):\n",
    "    # Your code here\n",
    "    already_present = set()\n",
    "    duplicates = set()\n",
    "\n",
    "    for item in input:\n",
    "        if item in already_present:\n",
    "            duplicates.add(item)  \n",
    "        else:\n",
    "            already_present.add(item)  \n",
    "\n",
    "    return list(duplicates)  \n",
    "    pass\n",
    "\n",
    "print(get_duplicates(X))\n",
    "# Expected output: \n",
    "# [1,3]\n",
    "\n"
   ]
  },
  {
   "cell_type": "markdown",
   "id": "a28abeb7-2e59-41d0-a9ec-586b8c6debe5",
   "metadata": {},
   "source": [
    "#### Q16: You are given a list `X = ['foo', 'red', 'baz', 'dwarf', 'Foo', 'foO']`. Write a Python function to remove all occurrences of the string `'foo'` from the list, ignoring case sensitivity.\n"
   ]
  },
  {
   "cell_type": "code",
   "execution_count": 72,
   "id": "c52a753d-7228-447b-8eb8-a6c143c91468",
   "metadata": {},
   "outputs": [
    {
     "name": "stdout",
     "output_type": "stream",
     "text": [
      "['red', 'baz', 'dwarf']\n"
     ]
    }
   ],
   "source": [
    "X = ['foo', 'red', 'baz', 'dwarf', 'foo', 'FoO']\n",
    "def remove_foo(input):\n",
    "    # Your code here\n",
    "    return [a for a in input if a.lower() != 'foo']\n",
    "    pass\n",
    "\n",
    "print(remove_foo(X))\n",
    "# Your code should return:\n",
    "# ['red', 'baz', 'dwarf']\n"
   ]
  },
  {
   "cell_type": "markdown",
   "id": "5ce19578-9047-4306-b28c-69384dadeb09",
   "metadata": {},
   "source": [
    "#### Q17: Given a list of strings, write a Python function to return the elements that have more than 2 letters and convert them to uppercase."
   ]
  },
  {
   "cell_type": "code",
   "execution_count": 95,
   "id": "829ae177-b027-4e19-b28e-1d1e05123a7d",
   "metadata": {},
   "outputs": [
    {
     "name": "stdout",
     "output_type": "stream",
     "text": [
      "['BAT', 'CAR', 'DOVE', 'PYTHON']\n"
     ]
    }
   ],
   "source": [
    "X = [\"a\", \"as\", \"bat\", \"car\", \"dove\", \"python\"]  \n",
    "\n",
    "def uppercase_words(input):\n",
    "    # Your code here\n",
    "    return [words.upper() for words in input if len(words) > 2]\n",
    "    pass\n",
    "\n",
    "print(uppercase_words(X))\n",
    "# Expected output: \n",
    "#  ['BAT', 'CAR', 'DOVE', 'PYTHON']\n"
   ]
  },
  {
   "cell_type": "markdown",
   "id": "5f113170-9772-4df7-9612-df480203c1d9",
   "metadata": {},
   "source": [
    "#### Q18: Write a Python function to flatten a nested list (a list of tuples) into a single list of elements.\n"
   ]
  },
  {
   "cell_type": "code",
   "execution_count": 111,
   "id": "510bdf41-b2f2-4c12-a984-d15ee894f1b9",
   "metadata": {},
   "outputs": [
    {
     "name": "stdout",
     "output_type": "stream",
     "text": [
      "[1, 2, 3, 4, 5, 6, 7, 8, 9]\n"
     ]
    }
   ],
   "source": [
    "def flatten_list(nested_list):\n",
    "    # Your code here\n",
    "    return [item for sublist in nested_list for item in sublist]\n",
    "    pass\n",
    "\n",
    "# Example input\n",
    "nested_list = [(1, 2, 3), (4, 5, 6), (7, 8, 9)]\n",
    "\n",
    "print(flatten_list(nested_list))\n",
    "\n",
    "# Expected output: [1, 2, 3, 4, 5, 6, 7, 8, 9]\n"
   ]
  },
  {
   "cell_type": "markdown",
   "id": "939287e5-9bcf-4479-b75d-28f7fcff96d6",
   "metadata": {},
   "source": [
    "#### Q19: \n",
    "In mathematics, the Fibonacci sequence is a sequence in which each number is the sum of the two preceding ones. Numbers that are part of the Fibonacci sequence are known as Fibonacci numbers. \n",
    "\n",
    "Starting from 0 and 1, the first few values in the sequence are: 0, 1, 1, 2, 3, 5, 8, 13, 21, 34, 55, 89, 144.\n",
    "\n",
    "Write a Python generator function called `fibonacci()` that generates the Fibonacci sequence indefinitely. The function should yield the next number in the sequence each time it is called.\n"
   ]
  },
  {
   "cell_type": "code",
   "execution_count": 115,
   "id": "93d49752-b411-4f8b-9d23-c5ce8761dae2",
   "metadata": {},
   "outputs": [
    {
     "name": "stdout",
     "output_type": "stream",
     "text": [
      "0 1 1 2 3 5 8 13 21 34 "
     ]
    }
   ],
   "source": [
    "def fibonacci():\n",
    "    # Your code here\n",
    "\n",
    "    # Starting values we have\n",
    "    a, b = 0, 1  \n",
    "    while True:\n",
    "        \n",
    "        # We will yield the current value\n",
    "        yield a  \n",
    "        \n",
    "        # Updating to the next values in the sequence\n",
    "        a, b = b, a + b  \n",
    "\n",
    "# Example usage\n",
    "fib = fibonacci() \n",
    "for _ in range(10):\n",
    "    print(next(fib), end=\" \")\n",
    "    pass\n",
    "\n",
    "# Example usage\n",
    "# fib = fibonacci() \n",
    "# for _ in range(10):\n",
    "#     print(next(fib),end=\" \")\n",
    "\n",
    "# expected output\n",
    "# 0 1 1 2 3 5 8 13 21 34 \n",
    "\n"
   ]
  },
  {
   "cell_type": "markdown",
   "id": "25943126-3900-475c-8743-597bb4dc5e7d",
   "metadata": {},
   "source": [
    "#### Q20: \n",
    "Given a pandas Series representing daily sales figures for a week, with the days of the week as the index, perform the following tasks:\n",
    "\n",
    "- Calculate the total sales for the week.\n",
    "- Identify the day of the week with the highest sales."
   ]
  },
  {
   "cell_type": "code",
   "execution_count": 123,
   "id": "282646cf-7057-4543-b859-fdbc70263692",
   "metadata": {},
   "outputs": [
    {
     "name": "stdout",
     "output_type": "stream",
     "text": [
      "Total sales for the week: 1312.0\n",
      "Day with the highest sales: Thursday\n"
     ]
    }
   ],
   "source": [
    "import numpy as np\n",
    "\n",
    "import pandas as pd\n",
    " \n",
    "sales = [150.5, 200.75, 180.0, 220.25, 160.5, 190.0, 210.0] \n",
    "days = ['Monday', 'Tuesday', 'Wednesday', 'Thursday', 'Friday', 'Saturday', 'Sunday'] \n",
    "sales_series = pd.Series(sales, index=days) \n",
    "\n",
    "# First we will calculate the total sales for the week\n",
    "total_sales_generated = sales_series.sum()\n",
    "print(f\"Total sales for the week: {total_sales_generated}\")\n",
    "\n",
    "# Now, we will identify the day of the week that have the highest sales\n",
    "day_highest_crossed_sales = sales_series.idxmax()  \n",
    "print(f\"Day with the highest sales: {day_highest_crossed_sales}\")\n",
    "\n"
   ]
  },
  {
   "cell_type": "markdown",
   "id": "180d5bab-30cc-4317-9143-320b109809ae",
   "metadata": {},
   "source": [
    "## Part 3: Data Visualization (10 points)"
   ]
  },
  {
   "attachments": {
    "5a08f031-2736-4307-bc3b-c8e8941b3416.png": {
     "image/png": "[encoded data removed]"
    }
   },
   "cell_type": "markdown",
   "id": "98ee1bac-7e1b-4a0d-8dce-74c77d7e5750",
   "metadata": {},
   "source": [
    "#### Q21: Write a Python function that creates a scatter plot using Matplotlib. \n",
    "\n",
    "The function should take two lists, `x` and `y`, as arguments, and display a scatter plot with different colors for points above and below the line \\( y = x \\). Include titles for the x-axis and y-axis as well as a title for the graph.\n",
    "![image.png](attachment:5a08f031-2736-4307-bc3b-c8e8941b3416.png)"
   ]
  },
  {
   "cell_type": "code",
   "execution_count": 146,
   "id": "11e2ddd9-a0b2-4ed7-ab40-d6b78465e8d7",
   "metadata": {},
   "outputs": [
    {
     "data": {
      "image/png": "[encoded data removed]",
      "text/plain": [
       "<Figure size 640x480 with 1 Axes>"
      ]
     },
     "metadata": {},
     "output_type": "display_data"
    },
    {
     "data": {
      "text/plain": [
       "<Figure size 2000x1200 with 0 Axes>"
      ]
     },
     "metadata": {},
     "output_type": "display_data"
    }
   ],
   "source": [
    "import matplotlib.pyplot as plt\n",
    "\n",
    "def plot_scatter_graph(x, y):\n",
    "    # Your code here\n",
    "     \n",
    "    plt.figure(figsize=(20, 12))\n",
    "\n",
    "# Plotting the reference y=x line\n",
    "range_min = min(min(x), min(y))\n",
    "range_max = max(max(x), max(y))\n",
    "line_vals = np.linspace(range_min, range_max)\n",
    "plt.plot(line_vals, line_vals, 'k--', label='y = x reference line')\n",
    "\n",
    "# Creating scatter plot with points categorized by their relation to y=x\n",
    "points_above = [yi > xi for xi, yi in zip(x, y)]\n",
    "above_line = plt.scatter(np.array(x)[points_above], np.array(y)[points_above], color='blue', label='Above y=x')\n",
    "below_line = plt.scatter(np.array(x)[~np.array(points_above)], np.array(y)[~np.array(points_above)], color='red', label='Below or on y=x')\n",
    "\n",
    "# Adding labels, legend, and grid\n",
    "plt.title('Scatter Plot Categorized by Position Relative to y = x')\n",
    "plt.xlabel('X Values')\n",
    "plt.ylabel('Y Values')\n",
    "plt.legend()\n",
    "plt.grid(True)\n",
    "\n",
    "# Displaying the plot\n",
    "plt.show()\n",
    "\n",
    "\n",
    "# Example data\n",
    "x = [1, 2, 3, 4, 5]\n",
    "y = [1, 3, 2, 5, 4]\n",
    "plot_scatter_graph(x, y)"
   ]
  },
  {
   "cell_type": "code",
   "execution_count": null,
   "id": "67abc4bc-2ea8-4cd6-abad-5ffcab3c5d1a",
   "metadata": {},
   "outputs": [],
   "source": []
  },
  {
   "cell_type": "markdown",
   "id": "88b7ddb7-e27b-4954-b211-f127e4ddf742",
   "metadata": {},
   "source": [
    "## Part 4: Feature Engineering (10 points)"
   ]
  },
  {
   "attachments": {
    "cce9bbb9-f956-46f2-83b9-b149c83d2c5c.png": {
     "image/png": "[encoded data removed]"
    }
   },
   "cell_type": "markdown",
   "id": "36f21b5a-263b-416b-8d84-178585861113",
   "metadata": {},
   "source": [
    "In the Titanic dataset example, we aim to build a model to predict passenger survival based on the available features. Which of the following is the most appropriate method to handle each feature?\n",
    "![image.png](attachment:cce9bbb9-f956-46f2-83b9-b149c83d2c5c.png)\n"
   ]
  },
  {
   "cell_type": "markdown",
   "id": "dc356a09-f3a8-459e-8625-9744e013f94e",
   "metadata": {},
   "source": [
    "#### Q22: Pclass (Passenger Ticket Class):\n",
    "- A. Normalize using Z-Score or Min-Max scaling\n",
    "- B. Apply Dummy Variable (One-Hot) Encoding\n",
    "- C. Use Label Encoding\n",
    "- D. Drop the column\n",
    "- E. Leave it as is"
   ]
  },
  {
   "cell_type": "markdown",
   "id": "a6b5ad98-f6d8-43bd-ae01-ed8aeefc8b4b",
   "metadata": {},
   "source": [
    "Answer\n",
    "\n",
    "**B. Apply Dummy Variable (One-Hot) Encoding**\n"
   ]
  },
  {
   "cell_type": "markdown",
   "id": "d508ddeb-381f-437c-a3d0-09c22640604b",
   "metadata": {},
   "source": [
    "#### Q23: Fare (Passenger Fare):\n",
    "- A. Normalize using Z-Score or Min-Max scaling\n",
    "- B. Apply Dummy Variable (One-Hot) Encoding\n",
    "- C. Use Label Encoding\n",
    "- D. Drop the column\n",
    "- E. Leave it as is"
   ]
  },
  {
   "cell_type": "markdown",
   "id": "b54e5df7-540d-4a1f-a550-c22ea517dd35",
   "metadata": {},
   "source": [
    "Answer\n",
    "\n",
    "**A. Normalize using Z-Score or Min-Max scaling**\n"
   ]
  },
  {
   "cell_type": "markdown",
   "id": "7cd31181-6b04-406d-8e22-9eef47a2179a",
   "metadata": {},
   "source": [
    "#### Q24: Sex (Passenger Gender):\n",
    "- A. The length of the text in characters\n",
    "- B. Apply Dummy Variable (One-Hot) Encoding\n",
    "- C. Use Label Encoding\n",
    "- D. Drop the column\n",
    "- E. Leave it as is"
   ]
  },
  {
   "cell_type": "markdown",
   "id": "a64bdbc6-5a36-4990-a396-6e12f4621620",
   "metadata": {},
   "source": [
    "Answer\n",
    "\n",
    "**C. Use Label Encoding**\n"
   ]
  },
  {
   "cell_type": "markdown",
   "id": "7bee8de4-5c3b-4f59-b626-9ee03c7c2c5e",
   "metadata": {},
   "source": [
    "#### Q25: Embarked (Port of Embarkation):\n",
    "- A. The length of the text in characters\n",
    "- B. Apply Dummy Variable (One-Hot) Encoding\n",
    "- C. Use Label Encoding\n",
    "- D. Drop the column\n",
    "- E. Leave it as is\n"
   ]
  },
  {
   "cell_type": "markdown",
   "id": "b4a26d2c-42cb-4a5a-88f9-8ea907efb637",
   "metadata": {},
   "source": [
    "Answer\n",
    "\n",
    "**B. Apply Dummy Variable (One-Hot) Encoding**\n",
    "\n"
   ]
  },
  {
   "cell_type": "markdown",
   "id": "9f5496a6-09cb-4058-9468-098b81d68bc6",
   "metadata": {},
   "source": [
    "#### Q26: Ticket (Ticket number):\n",
    "- A. The length of the text in characters\n",
    "- B. Apply Dummy Variable (One-Hot) Encoding\n",
    "- C. Use Label Encoding\n",
    "- D. Drop the column\n",
    "- E. Leave it as is\n"
   ]
  },
  {
   "cell_type": "markdown",
   "id": "1ed06620-bc96-4b0c-bfbd-cb52f3108821",
   "metadata": {},
   "source": [
    "Answer\n",
    "\n",
    "**D. Drop the column**\n",
    "\n"
   ]
  },
  {
   "cell_type": "markdown",
   "id": "1813eb42-441f-4290-8c9b-913868458064",
   "metadata": {},
   "source": [
    "## Part 5: Problem Solving/Scenario-Based (30 points)\n",
    "These questions test logical thinking, using both Python and Pandas in real-world scenarios."
   ]
  },
  {
   "cell_type": "markdown",
   "id": "b08a5170-04af-43c7-a3b1-92a60d92b302",
   "metadata": {},
   "source": [
    "#### Q27 (2 points): Load the file \"laptop_dataset.csv\" into dataframe.\n",
    "\n",
    "hint: you need to skip the first row"
   ]
  },
  {
   "cell_type": "code",
   "execution_count": 260,
   "id": "3b0a0b75-6c51-45d2-86a4-c83a34f7c603",
   "metadata": {},
   "outputs": [
    {
     "data": {
      "text/html": [
       "<div>\n",
       "<style scoped>\n",
       "    .dataframe tbody tr th:only-of-type {\n",
       "        vertical-align: middle;\n",
       "    }\n",
       "\n",
       "    .dataframe tbody tr th {\n",
       "        vertical-align: top;\n",
       "    }\n",
       "\n",
       "    .dataframe thead th {\n",
       "        text-align: right;\n",
       "    }\n",
       "</style>\n",
       "<table border=\"1\" class=\"dataframe\">\n",
       "  <thead>\n",
       "    <tr style=\"text-align: right;\">\n",
       "      <th></th>\n",
       "      <th>Unnamed: 0</th>\n",
       "      <th>Manufacturer</th>\n",
       "      <th>Category</th>\n",
       "      <th>Screen</th>\n",
       "      <th>GPU</th>\n",
       "      <th>OS</th>\n",
       "      <th>CPU_core</th>\n",
       "      <th>Screen_Size_cm</th>\n",
       "      <th>CPU_frequency</th>\n",
       "      <th>RAM_GB</th>\n",
       "      <th>Storage_GB_SSD</th>\n",
       "      <th>Weight_kg</th>\n",
       "      <th>Price</th>\n",
       "    </tr>\n",
       "  </thead>\n",
       "  <tbody>\n",
       "    <tr>\n",
       "      <th>0</th>\n",
       "      <td>0</td>\n",
       "      <td>Acer</td>\n",
       "      <td>4</td>\n",
       "      <td>IPS Panel</td>\n",
       "      <td>2</td>\n",
       "      <td>1</td>\n",
       "      <td>5</td>\n",
       "      <td>35.560</td>\n",
       "      <td>1.6</td>\n",
       "      <td>8</td>\n",
       "      <td>256</td>\n",
       "      <td>1.60</td>\n",
       "      <td>978</td>\n",
       "    </tr>\n",
       "    <tr>\n",
       "      <th>1</th>\n",
       "      <td>1</td>\n",
       "      <td>Dell</td>\n",
       "      <td>3</td>\n",
       "      <td>Full HD</td>\n",
       "      <td>1</td>\n",
       "      <td>1</td>\n",
       "      <td>3</td>\n",
       "      <td>39.624</td>\n",
       "      <td>2.0</td>\n",
       "      <td>4</td>\n",
       "      <td>256</td>\n",
       "      <td>2.20</td>\n",
       "      <td>634</td>\n",
       "    </tr>\n",
       "    <tr>\n",
       "      <th>2</th>\n",
       "      <td>2</td>\n",
       "      <td>Dell</td>\n",
       "      <td>3</td>\n",
       "      <td>Full HD</td>\n",
       "      <td>1</td>\n",
       "      <td>1</td>\n",
       "      <td>7</td>\n",
       "      <td>39.624</td>\n",
       "      <td>2.7</td>\n",
       "      <td>8</td>\n",
       "      <td>256</td>\n",
       "      <td>2.20</td>\n",
       "      <td>946</td>\n",
       "    </tr>\n",
       "    <tr>\n",
       "      <th>3</th>\n",
       "      <td>3</td>\n",
       "      <td>Dell</td>\n",
       "      <td>4</td>\n",
       "      <td>IPS Panel</td>\n",
       "      <td>2</td>\n",
       "      <td>1</td>\n",
       "      <td>5</td>\n",
       "      <td>33.782</td>\n",
       "      <td>1.6</td>\n",
       "      <td>8</td>\n",
       "      <td>128</td>\n",
       "      <td>1.22</td>\n",
       "      <td>1244</td>\n",
       "    </tr>\n",
       "    <tr>\n",
       "      <th>4</th>\n",
       "      <td>4</td>\n",
       "      <td>HP</td>\n",
       "      <td>4</td>\n",
       "      <td>Full HD</td>\n",
       "      <td>2</td>\n",
       "      <td>1</td>\n",
       "      <td>7</td>\n",
       "      <td>39.624</td>\n",
       "      <td>1.8</td>\n",
       "      <td>8</td>\n",
       "      <td>256</td>\n",
       "      <td>1.91</td>\n",
       "      <td>837</td>\n",
       "    </tr>\n",
       "    <tr>\n",
       "      <th>...</th>\n",
       "      <td>...</td>\n",
       "      <td>...</td>\n",
       "      <td>...</td>\n",
       "      <td>...</td>\n",
       "      <td>...</td>\n",
       "      <td>...</td>\n",
       "      <td>...</td>\n",
       "      <td>...</td>\n",
       "      <td>...</td>\n",
       "      <td>...</td>\n",
       "      <td>...</td>\n",
       "      <td>...</td>\n",
       "      <td>...</td>\n",
       "    </tr>\n",
       "    <tr>\n",
       "      <th>233</th>\n",
       "      <td>233</td>\n",
       "      <td>Lenovo</td>\n",
       "      <td>4</td>\n",
       "      <td>IPS Panel</td>\n",
       "      <td>2</td>\n",
       "      <td>1</td>\n",
       "      <td>7</td>\n",
       "      <td>35.560</td>\n",
       "      <td>2.6</td>\n",
       "      <td>8</td>\n",
       "      <td>256</td>\n",
       "      <td>1.70</td>\n",
       "      <td>1891</td>\n",
       "    </tr>\n",
       "    <tr>\n",
       "      <th>234</th>\n",
       "      <td>234</td>\n",
       "      <td>Toshiba</td>\n",
       "      <td>3</td>\n",
       "      <td>Full HD</td>\n",
       "      <td>2</td>\n",
       "      <td>1</td>\n",
       "      <td>5</td>\n",
       "      <td>33.782</td>\n",
       "      <td>2.4</td>\n",
       "      <td>8</td>\n",
       "      <td>256</td>\n",
       "      <td>1.20</td>\n",
       "      <td>1950</td>\n",
       "    </tr>\n",
       "    <tr>\n",
       "      <th>235</th>\n",
       "      <td>235</td>\n",
       "      <td>Lenovo</td>\n",
       "      <td>4</td>\n",
       "      <td>IPS Panel</td>\n",
       "      <td>2</td>\n",
       "      <td>1</td>\n",
       "      <td>5</td>\n",
       "      <td>30.480</td>\n",
       "      <td>2.6</td>\n",
       "      <td>8</td>\n",
       "      <td>256</td>\n",
       "      <td>1.36</td>\n",
       "      <td>2236</td>\n",
       "    </tr>\n",
       "    <tr>\n",
       "      <th>236</th>\n",
       "      <td>236</td>\n",
       "      <td>Lenovo</td>\n",
       "      <td>3</td>\n",
       "      <td>Full HD</td>\n",
       "      <td>3</td>\n",
       "      <td>1</td>\n",
       "      <td>5</td>\n",
       "      <td>39.624</td>\n",
       "      <td>2.5</td>\n",
       "      <td>6</td>\n",
       "      <td>256</td>\n",
       "      <td>2.40</td>\n",
       "      <td>883</td>\n",
       "    </tr>\n",
       "    <tr>\n",
       "      <th>237</th>\n",
       "      <td>237</td>\n",
       "      <td>Toshiba</td>\n",
       "      <td>3</td>\n",
       "      <td>Full HD</td>\n",
       "      <td>2</td>\n",
       "      <td>1</td>\n",
       "      <td>5</td>\n",
       "      <td>35.560</td>\n",
       "      <td>2.3</td>\n",
       "      <td>8</td>\n",
       "      <td>256</td>\n",
       "      <td>1.95</td>\n",
       "      <td>1499</td>\n",
       "    </tr>\n",
       "  </tbody>\n",
       "</table>\n",
       "<p>238 rows × 13 columns</p>\n",
       "</div>"
      ],
      "text/plain": [
       "     Unnamed: 0 Manufacturer  Category     Screen  GPU  OS  CPU_core  \\\n",
       "0             0         Acer         4  IPS Panel    2   1         5   \n",
       "1             1         Dell         3    Full HD    1   1         3   \n",
       "2             2         Dell         3    Full HD    1   1         7   \n",
       "3             3         Dell         4  IPS Panel    2   1         5   \n",
       "4             4           HP         4    Full HD    2   1         7   \n",
       "..          ...          ...       ...        ...  ...  ..       ...   \n",
       "233         233       Lenovo         4  IPS Panel    2   1         7   \n",
       "234         234      Toshiba         3    Full HD    2   1         5   \n",
       "235         235       Lenovo         4  IPS Panel    2   1         5   \n",
       "236         236       Lenovo         3    Full HD    3   1         5   \n",
       "237         237      Toshiba         3    Full HD    2   1         5   \n",
       "\n",
       "     Screen_Size_cm  CPU_frequency  RAM_GB  Storage_GB_SSD  Weight_kg  Price  \n",
       "0            35.560            1.6       8             256       1.60    978  \n",
       "1            39.624            2.0       4             256       2.20    634  \n",
       "2            39.624            2.7       8             256       2.20    946  \n",
       "3            33.782            1.6       8             128       1.22   1244  \n",
       "4            39.624            1.8       8             256       1.91    837  \n",
       "..              ...            ...     ...             ...        ...    ...  \n",
       "233          35.560            2.6       8             256       1.70   1891  \n",
       "234          33.782            2.4       8             256       1.20   1950  \n",
       "235          30.480            2.6       8             256       1.36   2236  \n",
       "236          39.624            2.5       6             256       2.40    883  \n",
       "237          35.560            2.3       8             256       1.95   1499  \n",
       "\n",
       "[238 rows x 13 columns]"
      ]
     },
     "execution_count": 260,
     "metadata": {},
     "output_type": "execute_result"
    }
   ],
   "source": [
    "import numpy as np\n",
    "import pandas as pd\n",
    "import matplotlib.pyplot as plt\n",
    "\n",
    "file_name=\"laptop_dataset.csv\"\n",
    "\n",
    "# Loading the CSV file into a DataFrame, skipping the first row\n",
    "df = pd.read_csv(file_name, skiprows=1)\n",
    "\n",
    "# Displaying the first few rows of the DataFrame.\n",
    "df\n"
   ]
  },
  {
   "cell_type": "markdown",
   "id": "34ba44ae-166e-4d0b-bcef-83fa6037fc8e",
   "metadata": {},
   "source": [
    "#### Q28 (3 points): Write a code to fill the missing values.\n",
    "- Screen Size with the most frequent value of the attribute\n",
    "- Weight with the average value of the attribute"
   ]
  },
  {
   "cell_type": "code",
   "execution_count": 262,
   "id": "c500d276-5cc5-4d90-a6c8-ad8958e01ffe",
   "metadata": {},
   "outputs": [
    {
     "name": "stderr",
     "output_type": "stream",
     "text": [
      "/var/folders/rn/mjv0rnm53b72ykwx9qvn64nm0000gn/T/ipykernel_1797/402663124.py:4: FutureWarning: A value is trying to be set on a copy of a DataFrame or Series through chained assignment using an inplace method.\n",
      "The behavior will change in pandas 3.0. This inplace method will never work because the intermediate object on which we are setting values always behaves as a copy.\n",
      "\n",
      "For example, when doing 'df[col].method(value, inplace=True)', try using 'df.method({col: value}, inplace=True)' or df[col] = df[col].method(value) instead, to perform the operation inplace on the original object.\n",
      "\n",
      "\n",
      "  df['Screen_Size_cm'].fillna(df['Screen_Size_cm'].mode()[0], inplace=True)\n",
      "/var/folders/rn/mjv0rnm53b72ykwx9qvn64nm0000gn/T/ipykernel_1797/402663124.py:7: FutureWarning: A value is trying to be set on a copy of a DataFrame or Series through chained assignment using an inplace method.\n",
      "The behavior will change in pandas 3.0. This inplace method will never work because the intermediate object on which we are setting values always behaves as a copy.\n",
      "\n",
      "For example, when doing 'df[col].method(value, inplace=True)', try using 'df.method({col: value}, inplace=True)' or df[col] = df[col].method(value) instead, to perform the operation inplace on the original object.\n",
      "\n",
      "\n",
      "  df['Weight_kg'].fillna(df['Weight_kg'].mean(), inplace=True)\n"
     ]
    },
    {
     "data": {
      "text/html": [
       "<div>\n",
       "<style scoped>\n",
       "    .dataframe tbody tr th:only-of-type {\n",
       "        vertical-align: middle;\n",
       "    }\n",
       "\n",
       "    .dataframe tbody tr th {\n",
       "        vertical-align: top;\n",
       "    }\n",
       "\n",
       "    .dataframe thead th {\n",
       "        text-align: right;\n",
       "    }\n",
       "</style>\n",
       "<table border=\"1\" class=\"dataframe\">\n",
       "  <thead>\n",
       "    <tr style=\"text-align: right;\">\n",
       "      <th></th>\n",
       "      <th>Unnamed: 0</th>\n",
       "      <th>Manufacturer</th>\n",
       "      <th>Category</th>\n",
       "      <th>Screen</th>\n",
       "      <th>GPU</th>\n",
       "      <th>OS</th>\n",
       "      <th>CPU_core</th>\n",
       "      <th>Screen_Size_cm</th>\n",
       "      <th>CPU_frequency</th>\n",
       "      <th>RAM_GB</th>\n",
       "      <th>Storage_GB_SSD</th>\n",
       "      <th>Weight_kg</th>\n",
       "      <th>Price</th>\n",
       "    </tr>\n",
       "  </thead>\n",
       "  <tbody>\n",
       "    <tr>\n",
       "      <th>0</th>\n",
       "      <td>0</td>\n",
       "      <td>Acer</td>\n",
       "      <td>4</td>\n",
       "      <td>IPS Panel</td>\n",
       "      <td>2</td>\n",
       "      <td>1</td>\n",
       "      <td>5</td>\n",
       "      <td>35.560</td>\n",
       "      <td>1.6</td>\n",
       "      <td>8</td>\n",
       "      <td>256</td>\n",
       "      <td>1.60</td>\n",
       "      <td>978</td>\n",
       "    </tr>\n",
       "    <tr>\n",
       "      <th>1</th>\n",
       "      <td>1</td>\n",
       "      <td>Dell</td>\n",
       "      <td>3</td>\n",
       "      <td>Full HD</td>\n",
       "      <td>1</td>\n",
       "      <td>1</td>\n",
       "      <td>3</td>\n",
       "      <td>39.624</td>\n",
       "      <td>2.0</td>\n",
       "      <td>4</td>\n",
       "      <td>256</td>\n",
       "      <td>2.20</td>\n",
       "      <td>634</td>\n",
       "    </tr>\n",
       "    <tr>\n",
       "      <th>2</th>\n",
       "      <td>2</td>\n",
       "      <td>Dell</td>\n",
       "      <td>3</td>\n",
       "      <td>Full HD</td>\n",
       "      <td>1</td>\n",
       "      <td>1</td>\n",
       "      <td>7</td>\n",
       "      <td>39.624</td>\n",
       "      <td>2.7</td>\n",
       "      <td>8</td>\n",
       "      <td>256</td>\n",
       "      <td>2.20</td>\n",
       "      <td>946</td>\n",
       "    </tr>\n",
       "    <tr>\n",
       "      <th>3</th>\n",
       "      <td>3</td>\n",
       "      <td>Dell</td>\n",
       "      <td>4</td>\n",
       "      <td>IPS Panel</td>\n",
       "      <td>2</td>\n",
       "      <td>1</td>\n",
       "      <td>5</td>\n",
       "      <td>33.782</td>\n",
       "      <td>1.6</td>\n",
       "      <td>8</td>\n",
       "      <td>128</td>\n",
       "      <td>1.22</td>\n",
       "      <td>1244</td>\n",
       "    </tr>\n",
       "    <tr>\n",
       "      <th>4</th>\n",
       "      <td>4</td>\n",
       "      <td>HP</td>\n",
       "      <td>4</td>\n",
       "      <td>Full HD</td>\n",
       "      <td>2</td>\n",
       "      <td>1</td>\n",
       "      <td>7</td>\n",
       "      <td>39.624</td>\n",
       "      <td>1.8</td>\n",
       "      <td>8</td>\n",
       "      <td>256</td>\n",
       "      <td>1.91</td>\n",
       "      <td>837</td>\n",
       "    </tr>\n",
       "    <tr>\n",
       "      <th>...</th>\n",
       "      <td>...</td>\n",
       "      <td>...</td>\n",
       "      <td>...</td>\n",
       "      <td>...</td>\n",
       "      <td>...</td>\n",
       "      <td>...</td>\n",
       "      <td>...</td>\n",
       "      <td>...</td>\n",
       "      <td>...</td>\n",
       "      <td>...</td>\n",
       "      <td>...</td>\n",
       "      <td>...</td>\n",
       "      <td>...</td>\n",
       "    </tr>\n",
       "    <tr>\n",
       "      <th>233</th>\n",
       "      <td>233</td>\n",
       "      <td>Lenovo</td>\n",
       "      <td>4</td>\n",
       "      <td>IPS Panel</td>\n",
       "      <td>2</td>\n",
       "      <td>1</td>\n",
       "      <td>7</td>\n",
       "      <td>35.560</td>\n",
       "      <td>2.6</td>\n",
       "      <td>8</td>\n",
       "      <td>256</td>\n",
       "      <td>1.70</td>\n",
       "      <td>1891</td>\n",
       "    </tr>\n",
       "    <tr>\n",
       "      <th>234</th>\n",
       "      <td>234</td>\n",
       "      <td>Toshiba</td>\n",
       "      <td>3</td>\n",
       "      <td>Full HD</td>\n",
       "      <td>2</td>\n",
       "      <td>1</td>\n",
       "      <td>5</td>\n",
       "      <td>33.782</td>\n",
       "      <td>2.4</td>\n",
       "      <td>8</td>\n",
       "      <td>256</td>\n",
       "      <td>1.20</td>\n",
       "      <td>1950</td>\n",
       "    </tr>\n",
       "    <tr>\n",
       "      <th>235</th>\n",
       "      <td>235</td>\n",
       "      <td>Lenovo</td>\n",
       "      <td>4</td>\n",
       "      <td>IPS Panel</td>\n",
       "      <td>2</td>\n",
       "      <td>1</td>\n",
       "      <td>5</td>\n",
       "      <td>30.480</td>\n",
       "      <td>2.6</td>\n",
       "      <td>8</td>\n",
       "      <td>256</td>\n",
       "      <td>1.36</td>\n",
       "      <td>2236</td>\n",
       "    </tr>\n",
       "    <tr>\n",
       "      <th>236</th>\n",
       "      <td>236</td>\n",
       "      <td>Lenovo</td>\n",
       "      <td>3</td>\n",
       "      <td>Full HD</td>\n",
       "      <td>3</td>\n",
       "      <td>1</td>\n",
       "      <td>5</td>\n",
       "      <td>39.624</td>\n",
       "      <td>2.5</td>\n",
       "      <td>6</td>\n",
       "      <td>256</td>\n",
       "      <td>2.40</td>\n",
       "      <td>883</td>\n",
       "    </tr>\n",
       "    <tr>\n",
       "      <th>237</th>\n",
       "      <td>237</td>\n",
       "      <td>Toshiba</td>\n",
       "      <td>3</td>\n",
       "      <td>Full HD</td>\n",
       "      <td>2</td>\n",
       "      <td>1</td>\n",
       "      <td>5</td>\n",
       "      <td>35.560</td>\n",
       "      <td>2.3</td>\n",
       "      <td>8</td>\n",
       "      <td>256</td>\n",
       "      <td>1.95</td>\n",
       "      <td>1499</td>\n",
       "    </tr>\n",
       "  </tbody>\n",
       "</table>\n",
       "<p>238 rows × 13 columns</p>\n",
       "</div>"
      ],
      "text/plain": [
       "     Unnamed: 0 Manufacturer  Category     Screen  GPU  OS  CPU_core  \\\n",
       "0             0         Acer         4  IPS Panel    2   1         5   \n",
       "1             1         Dell         3    Full HD    1   1         3   \n",
       "2             2         Dell         3    Full HD    1   1         7   \n",
       "3             3         Dell         4  IPS Panel    2   1         5   \n",
       "4             4           HP         4    Full HD    2   1         7   \n",
       "..          ...          ...       ...        ...  ...  ..       ...   \n",
       "233         233       Lenovo         4  IPS Panel    2   1         7   \n",
       "234         234      Toshiba         3    Full HD    2   1         5   \n",
       "235         235       Lenovo         4  IPS Panel    2   1         5   \n",
       "236         236       Lenovo         3    Full HD    3   1         5   \n",
       "237         237      Toshiba         3    Full HD    2   1         5   \n",
       "\n",
       "     Screen_Size_cm  CPU_frequency  RAM_GB  Storage_GB_SSD  Weight_kg  Price  \n",
       "0            35.560            1.6       8             256       1.60    978  \n",
       "1            39.624            2.0       4             256       2.20    634  \n",
       "2            39.624            2.7       8             256       2.20    946  \n",
       "3            33.782            1.6       8             128       1.22   1244  \n",
       "4            39.624            1.8       8             256       1.91    837  \n",
       "..              ...            ...     ...             ...        ...    ...  \n",
       "233          35.560            2.6       8             256       1.70   1891  \n",
       "234          33.782            2.4       8             256       1.20   1950  \n",
       "235          30.480            2.6       8             256       1.36   2236  \n",
       "236          39.624            2.5       6             256       2.40    883  \n",
       "237          35.560            2.3       8             256       1.95   1499  \n",
       "\n",
       "[238 rows x 13 columns]"
      ]
     },
     "execution_count": 262,
     "metadata": {},
     "output_type": "execute_result"
    }
   ],
   "source": [
    "# We will fill missing values in the DataFrame now\n",
    "\n",
    "# For 'Screen_Size_cm', filling missing values with the most frequent value\n",
    "df['Screen_Size_cm'].fillna(df['Screen_Size_cm'].mode()[0], inplace=True)\n",
    "\n",
    "# For 'Weight_kg', filling missing values with the average value that is mean\n",
    "df['Weight_kg'].fillna(df['Weight_kg'].mean(), inplace=True)\n",
    "\n",
    "df\n"
   ]
  },
  {
   "cell_type": "markdown",
   "id": "07770859-a75b-4cb9-b048-cedfb6b69f9d",
   "metadata": {},
   "source": [
    "#### Q29 (3 points):\n",
    "Use the below mentioned units of conversion and write a code to modify the columns of the dataframe. Update their names as well.\n",
    " \n",
    "- Screen_Size_cm -> Screen_Size_inch   \n",
    "- Weight_kg -> Weight_pounds\n",
    "\n",
    "```{math}\n",
    "1 inch = 2.54 cm\n",
    "1 kg   = 2.205 pounds\n",
    "```"
   ]
  },
  {
   "cell_type": "code",
   "execution_count": 264,
   "id": "bb0b3827-86f3-4df0-a5bd-b40428f7e84d",
   "metadata": {},
   "outputs": [
    {
     "name": "stdout",
     "output_type": "stream",
     "text": [
      "   Unnamed: 0 Manufacturer  Category     Screen  GPU  OS  CPU_core  \\\n",
      "0           0         Acer         4  IPS Panel    2   1         5   \n",
      "1           1         Dell         3    Full HD    1   1         3   \n",
      "2           2         Dell         3    Full HD    1   1         7   \n",
      "3           3         Dell         4  IPS Panel    2   1         5   \n",
      "4           4           HP         4    Full HD    2   1         7   \n",
      "\n",
      "   CPU_frequency  RAM_GB  Storage_GB_SSD  Price  Screen_Size_inch  \\\n",
      "0            1.6       8             256    978              14.0   \n",
      "1            2.0       4             256    634              15.6   \n",
      "2            2.7       8             256    946              15.6   \n",
      "3            1.6       8             128   1244              13.3   \n",
      "4            1.8       8             256    837              15.6   \n",
      "\n",
      "   Weight_pounds  \n",
      "0        3.52800  \n",
      "1        4.85100  \n",
      "2        4.85100  \n",
      "3        2.69010  \n",
      "4        4.21155  \n"
     ]
    }
   ],
   "source": [
    "# Defining conversion factors\n",
    "cm_to_inch = 1 / 2.54\n",
    "kg_to_pounds = 2.205\n",
    "\n",
    "# Converting 'Screen_Size_cm' to 'Screen_Size_inch'\n",
    "df['Screen_Size_inch'] = df['Screen_Size_cm'] * cm_to_inch\n",
    "\n",
    "# Converting 'Weight_kg' to 'Weight_pounds'\n",
    "df['Weight_pounds'] = df['Weight_kg'] * kg_to_pounds\n",
    "\n",
    "# Dropping the old columns\n",
    "df.drop(columns=['Screen_Size_cm', 'Weight_kg'], inplace=True)\n",
    "\n",
    "# Displaying the updated DataFrame\n",
    "print(df.head())\n"
   ]
  },
  {
   "cell_type": "markdown",
   "id": "d105dbd4-32a5-4ed8-9ff8-6b529cf153b7",
   "metadata": {},
   "source": [
    "#### Q30 (2 points): Normalize the \"CPU_frequency\" attribute using the Z-score."
   ]
  },
  {
   "cell_type": "code",
   "execution_count": 266,
   "id": "e9b67db8-e44f-4f05-97a0-f243442b7114",
   "metadata": {},
   "outputs": [
    {
     "name": "stdout",
     "output_type": "stream",
     "text": [
      "   CPU_frequency  CPU_frequency_zscore\n",
      "0            1.6             -1.847588\n",
      "1            2.0             -0.875281\n",
      "2            2.7              0.826257\n",
      "3            1.6             -1.847588\n",
      "4            1.8             -1.361434\n"
     ]
    }
   ],
   "source": [
    "# Calculating the mean and standard deviation of 'CPU_frequency'\n",
    "mean_cpu_frequency = df['CPU_frequency'].mean()\n",
    "std_cpu_frequency = df['CPU_frequency'].std()\n",
    "\n",
    "# Normalizing 'CPU_frequency' using Z-score\n",
    "df['CPU_frequency_zscore'] = (df['CPU_frequency'] - mean_cpu_frequency) / std_cpu_frequency\n",
    "\n",
    "# Displaying the updated DataFrame with the new Z-score column\n",
    "print(df[['CPU_frequency', 'CPU_frequency_zscore']].head())\n",
    "\n"
   ]
  },
  {
   "attachments": {
    "c13c5807-cccd-4b06-8698-69e4d8dc4dc6.png": {
     "image/png": "[encoded data removed]"
    }
   },
   "cell_type": "markdown",
   "id": "ce55cd39-d118-404e-805e-90317f012634",
   "metadata": {},
   "source": [
    "#### Q31(10 points): \n",
    "Binning is a process of creating a categorical attribute which splits the values of a continuous data into a specified number of groups. In this case, write a code to create 3 bins for the attribute \"Price\". These bins would be named \"Low\", \"Medium\" and \"High\". The new attribute will be named \"Price-binned\".\n",
    "\n",
    "Hint: you can use np.linspace   \n",
    "![image.png](attachment:c13c5807-cccd-4b06-8698-69e4d8dc4dc6.png)"
   ]
  },
  {
   "cell_type": "code",
   "execution_count": 268,
   "id": "c80ad168-cc2b-4f9b-af72-6c9f9e752ae4",
   "metadata": {},
   "outputs": [
    {
     "name": "stdout",
     "output_type": "stream",
     "text": [
      "     Price Price-binned\n",
      "0      978          Low\n",
      "1      634          Low\n",
      "2      946          Low\n",
      "3     1244          Low\n",
      "4      837          Low\n",
      "..     ...          ...\n",
      "233   1891       Medium\n",
      "234   1950       Medium\n",
      "235   2236       Medium\n",
      "236    883          Low\n",
      "237   1499          Low\n",
      "\n",
      "[238 rows x 2 columns]\n",
      "Price-binned\n",
      "Low       160\n",
      "Medium     72\n",
      "High        6\n",
      "Name: count, dtype: int64\n"
     ]
    }
   ],
   "source": [
    "import pandas as pd\n",
    "import numpy as np\n",
    "\n",
    "# Creating bin edges using np.linspace\n",
    "bin_edges = np.linspace(df['Price'].min(), df['Price'].max(), num=4)\n",
    "\n",
    "# Creating the binned column\n",
    "df['Price-binned'] = pd.cut(df['Price'], \n",
    "                            bins=bin_edges, \n",
    "                            labels=['Low', 'Medium', 'High'], \n",
    "                            include_lowest=True)\n",
    "\n",
    "# Displaying the result\n",
    "print(df[['Price', 'Price-binned']])\n",
    "\n",
    "# To see the distribution\n",
    "print(df['Price-binned'].value_counts())"
   ]
  },
  {
   "cell_type": "markdown",
   "id": "f6842267-1af6-4c24-976f-173e3afacf9c",
   "metadata": {},
   "source": []
  },
  {
   "cell_type": "markdown",
   "id": "e6c87de1-c50e-4df8-a96a-fb12d1594e03",
   "metadata": {},
   "source": [
    "#### Q32 (10 points): \n",
    "Run a linear regression model to predict 'price' and calculate the following evaluation metrics:\n",
    "\n",
    "- Mean Squared Error (MSE)\n",
    "- R-squared (R²)"
   ]
  },
  {
   "cell_type": "code",
   "execution_count": 270,
   "id": "e9db803d-671d-49ba-8f17-2d3ce07c529f",
   "metadata": {},
   "outputs": [
    {
     "name": "stdout",
     "output_type": "stream",
     "text": [
      "Mean Squared Error (MSE): 203513.80525868732\n",
      "R-squared (R²): 0.11693912605827861\n"
     ]
    }
   ],
   "source": [
    "from sklearn.model_selection import train_test_split\n",
    "from sklearn.linear_model import LinearRegression\n",
    "from sklearn.metrics import mean_squared_error, r2_score\n",
    "\n",
    "# Selecting features for the model as required\n",
    "features = df[['CPU_frequency', 'RAM_GB', 'Storage_GB_SSD', 'Screen_Size_inch', 'Weight_pounds']]\n",
    "target = df['Price']\n",
    "\n",
    "# Splitting the dataset into training and testing sets (80% train, 20% test)\n",
    "X_train, X_test, y_train, y_test = train_test_split(features, target, test_size=0.2, random_state=42)\n",
    "\n",
    "# Creating and fitting the linear regression model\n",
    "model = LinearRegression()\n",
    "model.fit(X_train, y_train)\n",
    "\n",
    "# Making predictions on the test set\n",
    "y_pred = model.predict(X_test)\n",
    "\n",
    "# Calculating evaluation metrics\n",
    "mse = mean_squared_error(y_test, y_pred)\n",
    "r2 = r2_score(y_test, y_pred)\n",
    "\n",
    "# Printing the results\n",
    "print(f\"Mean Squared Error (MSE): {mse}\")\n",
    "print(f\"R-squared (R²): {r2}\")\n"
   ]
  },
  {
   "cell_type": "code",
   "execution_count": null,
   "id": "186fa37b-2f2f-47e5-9995-15d902433e83",
   "metadata": {},
   "outputs": [],
   "source": []
  },
  {
   "cell_type": "markdown",
   "id": "18609a65-3cfe-49bd-8d82-7b4e4fb2df16",
   "metadata": {},
   "source": [
    "\n"
   ]
  }
 ],
 "metadata": {
  "kernelspec": {
   "display_name": "Python 3 (ipykernel)",
   "language": "python",
   "name": "python3"
  },
  "language_info": {
   "codemirror_mode": {
    "name": "ipython",
    "version": 3
   },
   "file_extension": ".py",
   "mimetype": "text/x-python",
   "name": "python",
   "nbconvert_exporter": "python",
   "pygments_lexer": "ipython3",
   "version": "3.12.4"
  }
 },
 "nbformat": 4,
 "nbformat_minor": 5
}
